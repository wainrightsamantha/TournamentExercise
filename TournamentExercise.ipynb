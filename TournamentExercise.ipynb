{
 "cells": [
  {
   "cell_type": "code",
   "execution_count": 1,
   "id": "694397f6-9f53-4fe1-8753-58ad8ec9f10b",
   "metadata": {},
   "outputs": [
    {
     "name": "stdout",
     "output_type": "stream",
     "text": [
      "Welcome to Tournaments R Us\n",
      "===========================\n",
      "There are 57 participant slots ready for sign-ups.\n"
     ]
    }
   ],
   "source": [
    "print('Welcome to Tournaments R Us')\n",
    "print('===========================')\n",
    "participant_count=57\n",
    "\n",
    "print('There are %s participant slots ready for sign-ups.' % (participant_count))"
   ]
  },
  {
   "cell_type": "code",
   "execution_count": 2,
   "id": "df6b63f7",
   "metadata": {
    "scrolled": true
   },
   "outputs": [
    {
     "name": "stdout",
     "output_type": "stream",
     "text": [
      "Participant Menu\n",
      "===========================\n",
      "1 sign up\n",
      "2\n"
     ]
    },
    {
     "ename": "NameError",
     "evalue": "name 'cancel_signup' is not defined",
     "output_type": "error",
     "traceback": [
      "\u001b[1;31m---------------------------------------------------------------------------\u001b[0m",
      "\u001b[1;31mNameError\u001b[0m                                 Traceback (most recent call last)",
      "Input \u001b[1;32mIn [2]\u001b[0m, in \u001b[0;36m<cell line: 6>\u001b[1;34m()\u001b[0m\n\u001b[0;32m     11\u001b[0m     get_signup()\n\u001b[0;32m     12\u001b[0m \u001b[38;5;28;01melif\u001b[39;00m menu_select \u001b[38;5;241m==\u001b[39m \u001b[38;5;241m2\u001b[39m:\n\u001b[1;32m---> 13\u001b[0m     \u001b[43mcancel_signup\u001b[49m()\n\u001b[0;32m     14\u001b[0m \u001b[38;5;28;01melif\u001b[39;00m menu_select \u001b[38;5;241m==\u001b[39m \u001b[38;5;241m3\u001b[39m:\n\u001b[0;32m     15\u001b[0m     all_signup()\n",
      "\u001b[1;31mNameError\u001b[0m: name 'cancel_signup' is not defined"
     ]
    }
   ],
   "source": [
    "print('Participant Menu')\n",
    "print('===========================')\n",
    "menu_set = {'sign up','cancel sign up','view participants','save changes','exit'}\n",
    "menu = set(menu_set)\n",
    "\n",
    "for count, menu in enumerate(menu, start=1):\n",
    "    print(count, menu)\n",
    "    \n",
    "    menu_select = int(input())\n",
    "    if menu_select == 1:\n",
    "        get_signup()\n",
    "    elif menu_select == 2:\n",
    "        cancel_signup()\n",
    "    elif menu_select == 3:\n",
    "        all_signup()\n",
    "    elif menu_select == 4:\n",
    "        save()\n",
    "    elif menu_select == 5:\n",
    "        exit()\n",
    "    else: \n",
    "        menu_select is not int in range(1,6)\n",
    "        print('Enter a number between 1 and 5.')"
   ]
  },
  {
   "cell_type": "code",
   "execution_count": null,
   "id": "f4e8bbf9",
   "metadata": {},
   "outputs": [],
   "source": [
    "print('Participant Sign Up')\n",
    "print('===========================')\n",
    "\n",
    "def get_signup(RegisterList):\n",
    "    while True:\n",
    "        name = input('participant_name')\n",
    "        if type(participant_name) is not str:\n",
    "            print('Name needs to be first and last name')\n",
    "            break\n",
    "        elif participant_name is not None:\n",
    "            print('Participant already registered.')\n",
    "            break\n",
    "        else:\n",
    "            global fullname_result = ''\n",
    "            print(fullname_result)\n",
    "\n",
    "# Check for partcipant slot\n",
    "    while True:\n",
    "        slot = input('participant_slot')\n",
    "        if type(participant_slot) is not int:\n",
    "            print('Slot number needs to be a value between 1 and 50.')\n",
    "            break\n",
    "        elif participant_slot <=0 and participant_slot>51:\n",
    "            print('Input error.')\n",
    "            break\n",
    "        elif participant_slot is not None:\n",
    "                print('Slot is already filled.')\n",
    "        else:\n",
    "            slotnum_result =''\n",
    "            print(slotnum_result)\n",
    "\n",
    "print('%s is signed up in starting slot r/# %s.' % (fullname_result, slotnum_result))"
   ]
  },
  {
   "cell_type": "code",
   "execution_count": null,
   "id": "17276dfb",
   "metadata": {},
   "outputs": [],
   "source": [
    "print('Participant Cancellation')\n",
    "print('===========================')\n",
    "# In order to cancel a participant, the administrator needs to \n",
    "# enter both the starting slot and participant name.\n",
    "\n",
    "def cancel_signup(RegisterList):\n",
    "\n",
    "# Participant Name: Abe Froman\n",
    "# Starting slot #[1-50]: 50\n",
    "    participant_list = []\n",
    "    eparticipant_name = []\n",
    "    estarting_slot = []\n",
    "\n",
    "    print(\"participant name: {}\".format(eparticipant_name)) \n",
    "    print(\"starting slot #[1-50]: {}\".format(estarting_slot))            \n",
    "\n",
    "\n",
    "# bring up the dictionary\n",
    "    participant_list.items()\n",
    "    \n",
    "# Errors: \n",
    "# if the slot input is out of range ERROR\n",
    "# if the slot input is not an int ERROR\n",
    "# if the slot input is empty print empty slot\n",
    "\n",
    "    for key, value in participant_list():\n",
    "        if value is None:\n",
    "            print(\"Error: {} is not in that starting slot.\".format(participant_name))\n",
    "\n",
    "\n",
    "# Starting slot #[1-50]: 42\n",
    "# Participant Name: Abe Froman\n",
    "\n",
    "# Success:\n",
    "# Abe Froman has been cancelled from starting slot #42."
   ]
  },
  {
   "cell_type": "code",
   "execution_count": null,
   "id": "3e8065d8",
   "metadata": {},
   "outputs": [],
   "source": [
    "# View Participants\n",
    "# This screen shows up to 5 slots before and up to 5 slots after the selected slot. \n",
    "# If there are less than 5 slots, show only the slots available.\n",
    "# For example, if slot 1 is selected, then there are 0 slots before, so only slot 1 plus 5 slots after are shown.\n",
    "print('View Participants')\n",
    "print('===========================')\n",
    "\n",
    "def all_signup(RegisterList):\n"
   ]
  },
  {
   "cell_type": "code",
   "execution_count": null,
   "id": "34056eb0",
   "metadata": {},
   "outputs": [],
   "source": [
    "print('Save Changes')\n",
    "print('===========================')\n",
    "\n",
    "def save():\n",
    "\n",
    "    print('Save your changes to CSV? [yes/n]')"
   ]
  },
  {
   "cell_type": "code",
   "execution_count": null,
   "id": "b7662029",
   "metadata": {},
   "outputs": [],
   "source": [
    "print('Exit')\n",
    "print('===========================')\n",
    "\n",
    "def exit():\n",
    "\n",
    "    print('Any saved changes will be lost.')\n",
    "    print('Are you sure you want to exit? [y/n]')\n",
    "\n",
    "    save = input()\n",
    "    print('Changes saved to .csv')\n"
   ]
  }
 ],
 "metadata": {
  "kernelspec": {
   "display_name": "Python 3 (ipykernel)",
   "language": "python",
   "name": "python3"
  },
  "language_info": {
   "codemirror_mode": {
    "name": "ipython",
    "version": 3
   },
   "file_extension": ".py",
   "mimetype": "text/x-python",
   "name": "python",
   "nbconvert_exporter": "python",
   "pygments_lexer": "ipython3",
   "version": "3.9.12"
  }
 },
 "nbformat": 4,
 "nbformat_minor": 5
}
